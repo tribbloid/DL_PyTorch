{
 "cells": [
  {
   "cell_type": "markdown",
   "metadata": {},
   "source": [
    "# Autoencoders in PyTorch\n",
    "\n",
    "In this notebook, we'll build an autoencoder with PyTorch. I like autoencoders because they are a straightforward but interesting model to implement. It's a good first project when learning a new framework.\n",
    "\n",
    "Just as a reminder, autoencoders attempt to find a compressed representation for some dataset. The model does this by encoding the data into a smaller number of values, a compressed vector. During training, the vector is passed through a decoder which attempts to reconstruct the original data. The loss is then the mean squared error between the reconstruction and the original data.\n",
    "\n",
    "<img src=\"assets/autoencoder_1.png\">\n",
    "\n",
    "Here, we'll use PyTorch to build the encoder and decoder, then train up the network. You can read more about autoencoders and implementing them in TensorFlow [here]( https://github.com/udacity/deep-learning/tree/master/autoencoder)."
   ]
  },
  {
   "cell_type": "code",
   "execution_count": 1,
   "metadata": {
    "collapsed": true
   },
   "outputs": [],
   "source": [
    "%matplotlib inline\n",
    "%config InlineBackend.figure_format = 'retina'\n",
    "\n",
    "import time\n",
    "\n",
    "import numpy as np\n",
    "import matplotlib.pyplot as plt\n",
    "import torch\n",
    "from torch import nn\n",
    "from torch import optim\n",
    "import torch.nn.functional as F\n",
    "from torch.autograd import Variable\n",
    "from torchvision import datasets, transforms\n",
    "\n",
    "from helper import test_network, view_recon"
   ]
  },
  {
   "cell_type": "code",
   "execution_count": 2,
   "metadata": {
    "collapsed": true
   },
   "outputs": [],
   "source": [
    "# Get the data \n",
    "transform = transforms.Compose([transforms.ToTensor(),\n",
    "                              transforms.Normalize((0.5, 0.5, 0.5), (0.5, 0.5, 0.5)),\n",
    "                             ])\n",
    "trainset = datasets.MNIST('MNIST_data/', download=True, train=True, transform=transform)\n",
    "trainloader = torch.utils.data.DataLoader(trainset, batch_size=64, shuffle=True)\n",
    "\n",
    "testset = datasets.MNIST('MNIST_data/', download=True, train=False, transform=transform)\n",
    "testloader = torch.utils.data.DataLoader(testset, batch_size=64, shuffle=True)"
   ]
  },
  {
   "cell_type": "markdown",
   "metadata": {},
   "source": [
    "## Building the network\n",
    "\n",
    "Here we'll build the network for the autoencoder.\n",
    "\n",
    "Again, we start it by creating a class inheriting from `nn.Module`. The way I did this was splitting the forward pass into two methods, `encoder` and `decoder`. This is because after training, we will usually just want the encoded vector. In the `forward` method, we just connect the two.\n",
    "\n",
    "```python\n",
    "class Network(nn.Module):\n",
    "    def __init__(self):\n",
    "        super().__init__()\n",
    "        \n",
    "        # Define the layers and operations here\n",
    "        \n",
    "    def forward(self, x):\n",
    "        \n",
    "        x = self.encoder(x)\n",
    "        logits = self.decoder(x)\n",
    "        \n",
    "        return logits\n",
    "\n",
    "    def encoder(self, x):\n",
    "        # Forward pass through the encoder\n",
    "        return x\n",
    "    \n",
    "    def decoder(self, x):\n",
    "        # Forward pass through the decoder\n",
    "        return x\n",
    "```\n",
    "        \n",
    "### The Encoder\n",
    "\n",
    "For the encoder, we'll use convolutional layers with `nn.Conv2d`. You can use max-pooling for downsampling, with ``nn.MaxPool2d``, but I chose to leave it out since many people seem to be moving away from pooling and downsampling with strides instead. I also added dropout with the [`nn.Dropout2d`](http://pytorch.org/docs/nn.html#dropout2d) module. With the dropout module, you'll want to turn off dropout while you're infering, you can do that with `net.eval()`. To turn dropout back on, use `net.train()`. This also works for things like batch normalization.\n",
    "\n",
    "So, in the encoder forward pass, it would look something like \n",
    "\n",
    "```python\n",
    "x = self.drop(F.relu(self.conv1(x)))\n",
    "```\n",
    "\n",
    "with the convolutional layer, a ReLU activation, and dropout.\n",
    "\n",
    "Typically you'll start with the first convolutional layer as the deepest layer, then use shallower layers as you compress the representation. For instance, you could use three max-pool-convolution layers with depths 16, 8, and 8. If you downsample by two with each layer (use strides of two and \"same\" padding), you'll end up with a layer that is 8x4x4. Feel free to choose whatever depths you want, and however many layers you as well.\n",
    "\n",
    "### The decoder\n",
    "\n",
    "With the decoder, you'll need to upsample the layers. This can be done with transposed convolutions ([nn.ConvTranspose2d](http://pytorch.org/docs/nn.html#convtranspose2d)) or by nearest neighbor upsampling ([nn.UpsamplingNearest2d](http://pytorch.org/docs/nn.html#upsamplingnearest2d)). With transposed convolutions, you define the kernel size and strides like normal, but when you call the module, you can set an output size. That is, you'd define the operation as \n",
    "```python\n",
    "self.upconv = nn.ConvTranspose2d(8, 8, 3, stride=2, padding=1)\n",
    "```\n",
    "\n",
    "then in the forward pass \n",
    "\n",
    "```python\n",
    "x = self.upconv(x, output_size=(14,14))\n",
    "```\n",
    "\n",
    "Similarly with nearest neighbor, you set the size of the output `self.upsample = nn.UpsamplingNearest2d(size=(14, 14))`.\n",
    "\n",
    "If you're using transposed convolutions, the forward pass would look like `x = self.drop(F.relu(self.upconv1(x, output_size=(7,7))))` to upsample to 7x7 layer, with a ReLU activation and dropout. Typically you'd upsample through a few layers, something like depths of 8, 8, and 16. Then the output layer would be another convolutional layer with a depth of 1 to match the MNIST images. If you were working with color images like CIFAR or SVHN, you'd use a depth of 3.\n",
    "\n",
    "Which upsampling method you choose depends on a lot of factors. Distill [recently published](http://distill.pub/2016/deconv-checkerboard/) a good article about the differences. They show that transposed convolutional layers can sometimes result in checkerboard artifacts and nearest neighbor upsampling works better. But, I've found that transposed convolutions work great for this model. So, try out both methods if you're curious.\n",
    "\n",
    "If you need a refresher on building autoencoders with convolutions and upsampling, check out [this notebook](https://github.com/udacity/deep-learning/blob/master/autoencoder/Convolutional_Autoencoder_Solution.ipynb). And here [we used transposed convolutions](https://github.com/udacity/deep-learning/blob/master/dcgan-svhn/DCGAN.ipynb) to build the generator of a GAN."
   ]
  },
  {
   "cell_type": "code",
   "execution_count": 3,
   "metadata": {
    "collapsed": true
   },
   "outputs": [],
   "source": [
    "class Network(nn.Module):\n",
    "    def __init__(self, drop_prob=0.5):\n",
    "        super().__init__()\n",
    "        # Encoder\n",
    "        self.conv1 = nn.Conv2d(1, 64, 3, stride=2, padding=1)\n",
    "        self.conv2 = nn.Conv2d(64, 32, 3, stride=2, padding=1)\n",
    "        self.conv3 = nn.Conv2d(32, 16, 3, stride=2, padding=1)\n",
    "        self.conv4 = nn.Conv2d(16, 8, 3, stride=1, padding=1)\n",
    "        \n",
    "        # Decoder\n",
    "        self.upconv1 = nn.ConvTranspose2d(8, 8, 3, stride=2, padding=1)\n",
    "        self.upconv2 = nn.ConvTranspose2d(8, 16, 3, stride=2, padding=1)\n",
    "        self.upconv3 = nn.ConvTranspose2d(16, 32, 3, stride=1, padding=1)\n",
    "        self.upconv4 = nn.ConvTranspose2d(32, 64, 3, stride=2, padding=1)\n",
    "        self.out = nn.ConvTranspose2d(64, 1, 3, stride=1, padding=1)\n",
    "        \n",
    "        self.drop = nn.Dropout2d(p=drop_prob)\n",
    "    \n",
    "    def forward(self, x):\n",
    "        x = self.encode(x)\n",
    "        logits = self.decode(x)\n",
    "        \n",
    "        return logits\n",
    "\n",
    "    def encode(self, x):\n",
    "        x = self.drop(F.relu(self.conv1(x)))\n",
    "        x = self.drop(F.relu(self.conv2(x)))\n",
    "        x = self.drop(F.relu(self.conv3(x)))\n",
    "        x = F.relu(self.conv4(x))\n",
    "        return x\n",
    "        \n",
    "    def decode(self, x):\n",
    "        x = self.drop(F.relu(self.upconv1(x, output_size=(7,7))))\n",
    "        x = self.drop(F.relu(self.upconv2(x, output_size=(14,14))))\n",
    "        x = self.drop(F.relu(self.upconv3(x, output_size=(14,14))))\n",
    "        x = self.drop(F.relu(self.upconv4(x, output_size=(28,28))))\n",
    "        x = self.out(x)\n",
    "        return x"
   ]
  },
  {
   "cell_type": "markdown",
   "metadata": {},
   "source": [
    "Test to make sure it works for one training pass, shouldn't get any errors here."
   ]
  },
  {
   "cell_type": "code",
   "execution_count": 4,
   "metadata": {},
   "outputs": [
    {
     "data": {
      "text/plain": [
       "True"
      ]
     },
     "execution_count": 4,
     "metadata": {},
     "output_type": "execute_result"
    }
   ],
   "source": [
    "net = Network()\n",
    "test_network(net, trainloader)"
   ]
  },
  {
   "cell_type": "markdown",
   "metadata": {},
   "source": [
    "## Training the network\n",
    "\n",
    "Now we'll train the network. We're using the mean square error for the loss, so we'll use `criterion = nn.MSELoss()`. As before, we update the weights by doing a forward pass through the network, then calculate the loss, get the gradients with `loss.backward()`, then make an update step with `optimizer.step()` (with an Adam optimizer, `optim.Adam`)."
   ]
  },
  {
   "cell_type": "code",
   "execution_count": 7,
   "metadata": {},
   "outputs": [
    {
     "name": "stdout",
     "output_type": "stream",
     "text": [
      "Epoch: 1/10.. Loss: 0.2990.. Test loss: 0.1347.. 0.0092 s/batch\n",
      "Epoch: 1/10.. Loss: 0.0976.. Test loss: 0.0700.. 0.0091 s/batch\n",
      "Epoch: 1/10.. Loss: 0.0601.. Test loss: 0.0490.. 0.0091 s/batch\n",
      "Epoch: 1/10.. Loss: 0.0442.. Test loss: 0.0395.. 0.0092 s/batch\n",
      "Epoch: 2/10.. Loss: 0.0361.. Test loss: 0.0321.. 0.0028 s/batch\n"
     ]
    },
    {
     "data": {
      "image/png": "[encoded data removed]",
      "text/plain": [
       "<matplotlib.figure.Figure at 0x7f4f3078dcc0>"
      ]
     },
     "metadata": {
      "image/png": {
       "height": 184,
       "width": 370
      }
     },
     "output_type": "display_data"
    },
    {
     "name": "stdout",
     "output_type": "stream",
     "text": [
      "Epoch: 2/10.. Loss: 0.0310.. Test loss: 0.0285.. 0.0103 s/batch\n",
      "Epoch: 2/10.. Loss: 0.0277.. Test loss: 0.0255.. 0.0092 s/batch\n",
      "Epoch: 2/10.. Loss: 0.0252.. Test loss: 0.0231.. 0.0092 s/batch\n",
      "Epoch: 2/10.. Loss: 0.0235.. Test loss: 0.0222.. 0.0092 s/batch\n",
      "Epoch: 3/10.. Loss: 0.0219.. Test loss: 0.0204.. 0.0057 s/batch\n"
     ]
    },
    {
     "data": {
      "image/png": "[encoded data removed]",
      "text/plain": [
       "<matplotlib.figure.Figure at 0x7f4f30742b70>"
      ]
     },
     "metadata": {
      "image/png": {
       "height": 184,
       "width": 370
      }
     },
     "output_type": "display_data"
    },
    {
     "name": "stdout",
     "output_type": "stream",
     "text": [
      "Epoch: 3/10.. Loss: 0.0207.. Test loss: 0.0202.. 0.0103 s/batch\n",
      "Epoch: 3/10.. Loss: 0.0198.. Test loss: 0.0188.. 0.0092 s/batch\n",
      "Epoch: 3/10.. Loss: 0.0192.. Test loss: 0.0177.. 0.0092 s/batch\n",
      "Epoch: 3/10.. Loss: 0.0183.. Test loss: 0.0176.. 0.0092 s/batch\n",
      "Epoch: 4/10.. Loss: 0.0178.. Test loss: 0.0165.. 0.0085 s/batch\n"
     ]
    },
    {
     "data": {
      "image/png": "[encoded data removed]",
      "text/plain": [
       "<matplotlib.figure.Figure at 0x7f4f28f084a8>"
      ]
     },
     "metadata": {
      "image/png": {
       "height": 184,
       "width": 370
      }
     },
     "output_type": "display_data"
    },
    {
     "name": "stdout",
     "output_type": "stream",
     "text": [
      "Epoch: 4/10.. Loss: 0.0171.. Test loss: 0.0162.. 0.0103 s/batch\n",
      "Epoch: 4/10.. Loss: 0.0168.. Test loss: 0.0163.. 0.0092 s/batch\n",
      "Epoch: 4/10.. Loss: 0.0162.. Test loss: 0.0151.. 0.0092 s/batch\n",
      "Epoch: 5/10.. Loss: 0.0160.. Test loss: 0.0168.. 0.0022 s/batch\n",
      "Epoch: 5/10.. Loss: 0.0157.. Test loss: 0.0152.. 0.0092 s/batch\n"
     ]
    },
    {
     "data": {
      "image/png": "[encoded data removed]",
      "text/plain": [
       "<matplotlib.figure.Figure at 0x7f4f28eacb00>"
      ]
     },
     "metadata": {
      "image/png": {
       "height": 184,
       "width": 370
      }
     },
     "output_type": "display_data"
    },
    {
     "name": "stdout",
     "output_type": "stream",
     "text": [
      "Epoch: 5/10.. Loss: 0.0151.. Test loss: 0.0145.. 0.0103 s/batch\n",
      "Epoch: 5/10.. Loss: 0.0151.. Test loss: 0.0146.. 0.0092 s/batch\n",
      "Epoch: 5/10.. Loss: 0.0148.. Test loss: 0.0139.. 0.0092 s/batch\n",
      "Epoch: 6/10.. Loss: 0.0145.. Test loss: 0.0142.. 0.0050 s/batch\n",
      "Epoch: 6/10.. Loss: 0.0143.. Test loss: 0.0135.. 0.0092 s/batch\n"
     ]
    },
    {
     "data": {
      "image/png": "[encoded data removed]",
      "text/plain": [
       "<matplotlib.figure.Figure at 0x7f4f3067d240>"
      ]
     },
     "metadata": {
      "image/png": {
       "height": 184,
       "width": 370
      }
     },
     "output_type": "display_data"
    },
    {
     "name": "stdout",
     "output_type": "stream",
     "text": [
      "Epoch: 6/10.. Loss: 0.0141.. Test loss: 0.0132.. 0.0105 s/batch\n",
      "Epoch: 6/10.. Loss: 0.0138.. Test loss: 0.0134.. 0.0091 s/batch\n",
      "Epoch: 6/10.. Loss: 0.0134.. Test loss: 0.0127.. 0.0092 s/batch\n",
      "Epoch: 7/10.. Loss: 0.0134.. Test loss: 0.0132.. 0.0079 s/batch\n",
      "Epoch: 7/10.. Loss: 0.0133.. Test loss: 0.0126.. 0.0092 s/batch\n"
     ]
    },
    {
     "data": {
      "image/png": "[encoded data removed]",
      "text/plain": [
       "<matplotlib.figure.Figure at 0x7f4f28f08198>"
      ]
     },
     "metadata": {
      "image/png": {
       "height": 184,
       "width": 370
      }
     },
     "output_type": "display_data"
    },
    {
     "name": "stdout",
     "output_type": "stream",
     "text": [
      "Epoch: 7/10.. Loss: 0.0131.. Test loss: 0.0122.. 0.0103 s/batch\n",
      "Epoch: 7/10.. Loss: 0.0129.. Test loss: 0.0125.. 0.0092 s/batch\n",
      "Epoch: 8/10.. Loss: 0.0129.. Test loss: 0.0126.. 0.0016 s/batch\n",
      "Epoch: 8/10.. Loss: 0.0127.. Test loss: 0.0120.. 0.0092 s/batch\n",
      "Epoch: 8/10.. Loss: 0.0125.. Test loss: 0.0129.. 0.0092 s/batch\n"
     ]
    },
    {
     "data": {
      "image/png": "[encoded data removed]",
      "text/plain": [
       "<matplotlib.figure.Figure at 0x7f4f30880d30>"
      ]
     },
     "metadata": {
      "image/png": {
       "height": 184,
       "width": 370
      }
     },
     "output_type": "display_data"
    },
    {
     "name": "stdout",
     "output_type": "stream",
     "text": [
      "Epoch: 8/10.. Loss: 0.0124.. Test loss: 0.0115.. 0.0103 s/batch\n",
      "Epoch: 8/10.. Loss: 0.0122.. Test loss: 0.0120.. 0.0092 s/batch\n",
      "Epoch: 9/10.. Loss: 0.0122.. Test loss: 0.0117.. 0.0044 s/batch\n",
      "Epoch: 9/10.. Loss: 0.0119.. Test loss: 0.0113.. 0.0092 s/batch\n",
      "Epoch: 9/10.. Loss: 0.0120.. Test loss: 0.0114.. 0.0092 s/batch\n"
     ]
    },
    {
     "data": {
      "image/png": "[encoded data removed]",
      "text/plain": [
       "<matplotlib.figure.Figure at 0x7f4f28f215f8>"
      ]
     },
     "metadata": {
      "image/png": {
       "height": 184,
       "width": 370
      }
     },
     "output_type": "display_data"
    },
    {
     "name": "stdout",
     "output_type": "stream",
     "text": [
      "Epoch: 9/10.. Loss: 0.0119.. Test loss: 0.0115.. 0.0103 s/batch\n",
      "Epoch: 9/10.. Loss: 0.0115.. Test loss: 0.0111.. 0.0092 s/batch\n",
      "Epoch: 10/10.. Loss: 0.0116.. Test loss: 0.0116.. 0.0073 s/batch\n",
      "Epoch: 10/10.. Loss: 0.0115.. Test loss: 0.0114.. 0.0092 s/batch\n",
      "Epoch: 10/10.. Loss: 0.0115.. Test loss: 0.0109.. 0.0092 s/batch\n"
     ]
    },
    {
     "data": {
      "image/png": "[encoded data removed]",
      "text/plain": [
       "<matplotlib.figure.Figure at 0x7f4f30517ef0>"
      ]
     },
     "metadata": {
      "image/png": {
       "height": 184,
       "width": 370
      }
     },
     "output_type": "display_data"
    },
    {
     "name": "stdout",
     "output_type": "stream",
     "text": [
      "Epoch: 10/10.. Loss: 0.0113.. Test loss: 0.0128.. 0.0103 s/batch\n"
     ]
    }
   ],
   "source": [
    "net = Network(drop_prob=0.0)\n",
    "\n",
    "criterion = nn.MSELoss()\n",
    "optimizer = optim.Adam(net.parameters(), lr=0.001)\n",
    "epochs = 10\n",
    "print_every = 200  # Number of training steps to print losses\n",
    "show_every = 1000  # Number of training steps to show reconstructions\n",
    "cuda = True        # Train on GPU or not\n",
    "\n",
    "if cuda:\n",
    "    net.cuda()\n",
    "\n",
    "steps = 0\n",
    "running_loss = 0\n",
    "for e in range(epochs):\n",
    "    start = time.time()\n",
    "    for images, labels in iter(trainloader):\n",
    "        steps += 1\n",
    "\n",
    "        inputs = Variable(images)\n",
    "        targets = Variable(images)\n",
    "        \n",
    "        if cuda:\n",
    "            inputs, targets = inputs.cuda(), targets.cuda()\n",
    "        \n",
    "        optimizer.zero_grad()\n",
    "        \n",
    "        output = net.forward(inputs)\n",
    "        loss = criterion(output, targets)\n",
    "        loss.backward()\n",
    "        optimizer.step()\n",
    "        \n",
    "        running_loss += loss.data[0]\n",
    "        \n",
    "        if steps % print_every == 0:\n",
    "            net.eval()\n",
    "            stop = time.time()\n",
    "            # Test accuracy\n",
    "            val_loss = 0\n",
    "            for ii, (images, labels) in enumerate(testloader):\n",
    "                \n",
    "                #images = images.resize_(images.size()[0], 784)\n",
    "                inputs = Variable(images, volatile=True)\n",
    "                targets = Variable(images, volatile=True)\n",
    "                if cuda:\n",
    "                    inputs, targets = inputs.cuda(), targets.cuda()\n",
    "                \n",
    "                output = net.forward(inputs)\n",
    "                val_loss += criterion(output, targets).data[0]\n",
    "                \n",
    "            print(\"Epoch: {}/{}..\".format(e+1, epochs),\n",
    "                  \"Loss: {:.4f}..\".format(running_loss/print_every),\n",
    "                  \"Test loss: {:.4f}..\".format(val_loss/(ii+1)),\n",
    "                  \"{:.4f} s/batch\".format((stop - start)/print_every)\n",
    "                 )\n",
    "            \n",
    "            running_loss = 0\n",
    "            start = time.time()\n",
    "            net.train()\n",
    "              \n",
    "        if steps % show_every == 0:\n",
    "            net.cpu()\n",
    "            net.eval()\n",
    "            img = images[3]\n",
    "            x = Variable(img.resize_(1, *img.size()), volatile=True)\n",
    "            recon = net(x)\n",
    "            \n",
    "            view_recon(img, recon)\n",
    "            plt.show()\n",
    "            if cuda:\n",
    "                net.cuda()\n",
    "            net.train()"
   ]
  },
  {
   "cell_type": "markdown",
   "metadata": {},
   "source": [
    "## Encoding images\n",
    "\n",
    "Now that the network is trained, let's encode an image and check out the vector representation."
   ]
  },
  {
   "cell_type": "code",
   "execution_count": 23,
   "metadata": {
    "collapsed": true
   },
   "outputs": [],
   "source": [
    "net.cpu()\n",
    "dataiter = iter(trainloader)\n",
    "images, labels = dataiter.next()"
   ]
  },
  {
   "cell_type": "code",
   "execution_count": 65,
   "metadata": {
    "collapsed": true
   },
   "outputs": [],
   "source": [
    "img = images[3]\n",
    "# Need to resize the single image to add a fourth dimension\n",
    "x = Variable(img.resize_(1, *img.size()), volatile=True)\n",
    "comp = net.encode(x)"
   ]
  },
  {
   "cell_type": "code",
   "execution_count": 53,
   "metadata": {},
   "outputs": [
    {
     "data": {
      "text/plain": [
       "<matplotlib.image.AxesImage at 0x7fa7964d4710>"
      ]
     },
     "execution_count": 53,
     "metadata": {},
     "output_type": "execute_result"
    },
    {
     "data": {
      "image/png": "[encoded data removed]",
      "text/plain": [
       "<matplotlib.figure.Figure at 0x7fa7965459e8>"
      ]
     },
     "metadata": {
      "image/png": {
       "height": 200,
       "width": 364
      }
     },
     "output_type": "display_data"
    }
   ],
   "source": [
    "comp_arr = comp.data.numpy().squeeze()\n",
    "comp_arr = comp_arr.reshape((8, 16))\n",
    "plt.imshow(comp_arr, cmap='Reds')"
   ]
  }
 ],
 "metadata": {
  "kernelspec": {
   "display_name": "Python 3",
   "language": "python",
   "name": "python3"
  },
  "language_info": {
   "codemirror_mode": {
    "name": "ipython",
    "version": 3
   },
   "file_extension": ".py",
   "mimetype": "text/x-python",
   "name": "python",
   "nbconvert_exporter": "python",
   "pygments_lexer": "ipython3",
   "version": "3.6.7"
  }
 },
 "nbformat": 4,
 "nbformat_minor": 2
}
